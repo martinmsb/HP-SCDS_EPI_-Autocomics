{
  "nbformat": 4,
  "nbformat_minor": 0,
  "metadata": {
    "colab": {
      "name": "laion_download.ipynb",
      "provenance": [],
      "collapsed_sections": []
    },
    "kernelspec": {
      "name": "python3",
      "display_name": "Python 3"
    },
    "language_info": {
      "name": "python"
    }
  },
  "cells": [
    {
      "cell_type": "code",
      "execution_count": 1,
      "metadata": {
        "colab": {
          "base_uri": "https://localhost:8080/"
        },
        "id": "pFCuH77a5X2H",
        "outputId": "efcacc14-82d3-4553-f0c9-c3ee9dce2d8b"
      },
      "outputs": [
        {
          "output_type": "stream",
          "name": "stdout",
          "text": [
            "Mounted at /content/drive\n"
          ]
        }
      ],
      "source": [
        "# Mount Drive\n",
        "from google.colab import drive\n",
        "drive.mount('/content/drive')"
      ]
    },
    {
      "cell_type": "code",
      "source": [
        "!curl https://the-eye.eu/public/AI/cah/laion400m-met-release/laion400m-meta/part-00000-5b54c5d5-bbcf-484d-a2ce-0d6f73df1a36-c000.snappy.parquet -o laion.parquet"
      ],
      "metadata": {
        "colab": {
          "base_uri": "https://localhost:8080/"
        },
        "id": "OjUwnyC0WxrD",
        "outputId": "e38bfb64-d402-49a5-c29f-5734403719e4"
      },
      "execution_count": 3,
      "outputs": [
        {
          "output_type": "stream",
          "name": "stdout",
          "text": [
            "  % Total    % Received % Xferd  Average Speed   Time    Time     Time  Current\n",
            "                                 Dload  Upload   Total   Spent    Left  Speed\n",
            "100 1719M  100 1719M    0     0  40.3M      0  0:00:42  0:00:42 --:--:-- 26.5M\n"
          ]
        }
      ]
    },
    {
      "cell_type": "code",
      "source": [
        "import numpy as np\n",
        "import pandas as pd\n",
        "import pyarrow as pa\n",
        "import pyarrow.parquet as pq\n",
        "df_parquet = pq.read_table('laion.parquet')\n",
        "df = df_parquet.to_pandas()\n",
        "df"
      ],
      "metadata": {
        "colab": {
          "base_uri": "https://localhost:8080/",
          "height": 424
        },
        "id": "i4Mcsvac-Ly5",
        "outputId": "9b8c29a8-89aa-4d3f-896a-95373e696b4f"
      },
      "execution_count": 4,
      "outputs": [
        {
          "output_type": "execute_result",
          "data": {
            "text/plain": [
              "             SAMPLE_ID                                                URL  \\\n",
              "0         1.581282e+12  http://media.rightmove.co.uk/148k/147518/58718...   \n",
              "1         1.060015e+12  https://thumbs.ebaystatic.com/images/g/DYEAAOS...   \n",
              "2         3.372497e+12  https://farm1.staticflickr.com/784/40182677504...   \n",
              "3         3.820200e+11  https://t2.ftcdn.net/jpg/00/58/35/35/240_F_583...   \n",
              "4         2.928456e+12  https://findingblanche.files.wordpress.com/201...   \n",
              "...                ...                                                ...   \n",
              "12933519  1.539700e+10  http://s5.favim.com/orig/53/beautiful-black-an...   \n",
              "12933520  3.990059e+12  https://www.hobbidee-breda.nl/wp-content/uploa...   \n",
              "12933521  3.405165e+12  https://cdn.shopify.com/s/files/1/0142/2173/80...   \n",
              "12933522  1.394591e+12  https://3.bp.blogspot.com/-6M42JtD_Ht8/Ut__TVV...   \n",
              "12933523  2.729011e+12  https://cdn.shopify.com/s/files/1/0625/2813/pr...   \n",
              "\n",
              "                                                       TEXT  HEIGHT   WIDTH  \\\n",
              "0                   View EPC Rating Graph for this property   109.0   100.0   \n",
              "1         Silverline Air Framing Nailer 90mm 10 - 12 Gau...   225.0   225.0   \n",
              "2                                           Anhui Mountains   800.0   514.0   \n",
              "3                                Acute pain in a woman knee   257.0   240.0   \n",
              "4                  Venison – Sour Cherries – Cream – Potato   764.0   577.0   \n",
              "...                                                     ...     ...     ...   \n",
              "12933519          beautiful, black and white, fashion, heel   500.0   333.0   \n",
              "12933520                         Jilliez Artliners - Colour   247.0   300.0   \n",
              "12933521                               #1 Mom Heart Pendant   300.0   300.0   \n",
              "12933522  Wedding entertainment North East corporate eve...  1131.0  1600.0   \n",
              "12933523  Nautilus Womens Grey/Aqua Leather Steel Toe WP...   480.0   480.0   \n",
              "\n",
              "         LICENSE      NSFW  similarity  \n",
              "0              ?    UNSURE    0.312813  \n",
              "1              ?  UNLIKELY    0.312485  \n",
              "2              ?  UNLIKELY    0.316512  \n",
              "3              ?  UNLIKELY    0.344278  \n",
              "4              ?      NSFW    0.304397  \n",
              "...          ...       ...         ...  \n",
              "12933519       ?  UNLIKELY    0.338823  \n",
              "12933520       ?  UNLIKELY    0.358599  \n",
              "12933521       ?  UNLIKELY    0.311529  \n",
              "12933522       ?    UNSURE    0.351486  \n",
              "12933523       ?  UNLIKELY    0.360971  \n",
              "\n",
              "[12933524 rows x 8 columns]"
            ],
            "text/html": [
              "\n",
              "  <div id=\"df-28f23f0e-1b57-4192-9f3b-2f6162819afd\">\n",
              "    <div class=\"colab-df-container\">\n",
              "      <div>\n",
              "<style scoped>\n",
              "    .dataframe tbody tr th:only-of-type {\n",
              "        vertical-align: middle;\n",
              "    }\n",
              "\n",
              "    .dataframe tbody tr th {\n",
              "        vertical-align: top;\n",
              "    }\n",
              "\n",
              "    .dataframe thead th {\n",
              "        text-align: right;\n",
              "    }\n",
              "</style>\n",
              "<table border=\"1\" class=\"dataframe\">\n",
              "  <thead>\n",
              "    <tr style=\"text-align: right;\">\n",
              "      <th></th>\n",
              "      <th>SAMPLE_ID</th>\n",
              "      <th>URL</th>\n",
              "      <th>TEXT</th>\n",
              "      <th>HEIGHT</th>\n",
              "      <th>WIDTH</th>\n",
              "      <th>LICENSE</th>\n",
              "      <th>NSFW</th>\n",
              "      <th>similarity</th>\n",
              "    </tr>\n",
              "  </thead>\n",
              "  <tbody>\n",
              "    <tr>\n",
              "      <th>0</th>\n",
              "      <td>1.581282e+12</td>\n",
              "      <td>http://media.rightmove.co.uk/148k/147518/58718...</td>\n",
              "      <td>View EPC Rating Graph for this property</td>\n",
              "      <td>109.0</td>\n",
              "      <td>100.0</td>\n",
              "      <td>?</td>\n",
              "      <td>UNSURE</td>\n",
              "      <td>0.312813</td>\n",
              "    </tr>\n",
              "    <tr>\n",
              "      <th>1</th>\n",
              "      <td>1.060015e+12</td>\n",
              "      <td>https://thumbs.ebaystatic.com/images/g/DYEAAOS...</td>\n",
              "      <td>Silverline Air Framing Nailer 90mm 10 - 12 Gau...</td>\n",
              "      <td>225.0</td>\n",
              "      <td>225.0</td>\n",
              "      <td>?</td>\n",
              "      <td>UNLIKELY</td>\n",
              "      <td>0.312485</td>\n",
              "    </tr>\n",
              "    <tr>\n",
              "      <th>2</th>\n",
              "      <td>3.372497e+12</td>\n",
              "      <td>https://farm1.staticflickr.com/784/40182677504...</td>\n",
              "      <td>Anhui Mountains</td>\n",
              "      <td>800.0</td>\n",
              "      <td>514.0</td>\n",
              "      <td>?</td>\n",
              "      <td>UNLIKELY</td>\n",
              "      <td>0.316512</td>\n",
              "    </tr>\n",
              "    <tr>\n",
              "      <th>3</th>\n",
              "      <td>3.820200e+11</td>\n",
              "      <td>https://t2.ftcdn.net/jpg/00/58/35/35/240_F_583...</td>\n",
              "      <td>Acute pain in a woman knee</td>\n",
              "      <td>257.0</td>\n",
              "      <td>240.0</td>\n",
              "      <td>?</td>\n",
              "      <td>UNLIKELY</td>\n",
              "      <td>0.344278</td>\n",
              "    </tr>\n",
              "    <tr>\n",
              "      <th>4</th>\n",
              "      <td>2.928456e+12</td>\n",
              "      <td>https://findingblanche.files.wordpress.com/201...</td>\n",
              "      <td>Venison – Sour Cherries – Cream – Potato</td>\n",
              "      <td>764.0</td>\n",
              "      <td>577.0</td>\n",
              "      <td>?</td>\n",
              "      <td>NSFW</td>\n",
              "      <td>0.304397</td>\n",
              "    </tr>\n",
              "    <tr>\n",
              "      <th>...</th>\n",
              "      <td>...</td>\n",
              "      <td>...</td>\n",
              "      <td>...</td>\n",
              "      <td>...</td>\n",
              "      <td>...</td>\n",
              "      <td>...</td>\n",
              "      <td>...</td>\n",
              "      <td>...</td>\n",
              "    </tr>\n",
              "    <tr>\n",
              "      <th>12933519</th>\n",
              "      <td>1.539700e+10</td>\n",
              "      <td>http://s5.favim.com/orig/53/beautiful-black-an...</td>\n",
              "      <td>beautiful, black and white, fashion, heel</td>\n",
              "      <td>500.0</td>\n",
              "      <td>333.0</td>\n",
              "      <td>?</td>\n",
              "      <td>UNLIKELY</td>\n",
              "      <td>0.338823</td>\n",
              "    </tr>\n",
              "    <tr>\n",
              "      <th>12933520</th>\n",
              "      <td>3.990059e+12</td>\n",
              "      <td>https://www.hobbidee-breda.nl/wp-content/uploa...</td>\n",
              "      <td>Jilliez Artliners - Colour</td>\n",
              "      <td>247.0</td>\n",
              "      <td>300.0</td>\n",
              "      <td>?</td>\n",
              "      <td>UNLIKELY</td>\n",
              "      <td>0.358599</td>\n",
              "    </tr>\n",
              "    <tr>\n",
              "      <th>12933521</th>\n",
              "      <td>3.405165e+12</td>\n",
              "      <td>https://cdn.shopify.com/s/files/1/0142/2173/80...</td>\n",
              "      <td>#1 Mom Heart Pendant</td>\n",
              "      <td>300.0</td>\n",
              "      <td>300.0</td>\n",
              "      <td>?</td>\n",
              "      <td>UNLIKELY</td>\n",
              "      <td>0.311529</td>\n",
              "    </tr>\n",
              "    <tr>\n",
              "      <th>12933522</th>\n",
              "      <td>1.394591e+12</td>\n",
              "      <td>https://3.bp.blogspot.com/-6M42JtD_Ht8/Ut__TVV...</td>\n",
              "      <td>Wedding entertainment North East corporate eve...</td>\n",
              "      <td>1131.0</td>\n",
              "      <td>1600.0</td>\n",
              "      <td>?</td>\n",
              "      <td>UNSURE</td>\n",
              "      <td>0.351486</td>\n",
              "    </tr>\n",
              "    <tr>\n",
              "      <th>12933523</th>\n",
              "      <td>2.729011e+12</td>\n",
              "      <td>https://cdn.shopify.com/s/files/1/0625/2813/pr...</td>\n",
              "      <td>Nautilus Womens Grey/Aqua Leather Steel Toe WP...</td>\n",
              "      <td>480.0</td>\n",
              "      <td>480.0</td>\n",
              "      <td>?</td>\n",
              "      <td>UNLIKELY</td>\n",
              "      <td>0.360971</td>\n",
              "    </tr>\n",
              "  </tbody>\n",
              "</table>\n",
              "<p>12933524 rows × 8 columns</p>\n",
              "</div>\n",
              "      <button class=\"colab-df-convert\" onclick=\"convertToInteractive('df-28f23f0e-1b57-4192-9f3b-2f6162819afd')\"\n",
              "              title=\"Convert this dataframe to an interactive table.\"\n",
              "              style=\"display:none;\">\n",
              "        \n",
              "  <svg xmlns=\"http://www.w3.org/2000/svg\" height=\"24px\"viewBox=\"0 0 24 24\"\n",
              "       width=\"24px\">\n",
              "    <path d=\"M0 0h24v24H0V0z\" fill=\"none\"/>\n",
              "    <path d=\"M18.56 5.44l.94 2.06.94-2.06 2.06-.94-2.06-.94-.94-2.06-.94 2.06-2.06.94zm-11 1L8.5 8.5l.94-2.06 2.06-.94-2.06-.94L8.5 2.5l-.94 2.06-2.06.94zm10 10l.94 2.06.94-2.06 2.06-.94-2.06-.94-.94-2.06-.94 2.06-2.06.94z\"/><path d=\"M17.41 7.96l-1.37-1.37c-.4-.4-.92-.59-1.43-.59-.52 0-1.04.2-1.43.59L10.3 9.45l-7.72 7.72c-.78.78-.78 2.05 0 2.83L4 21.41c.39.39.9.59 1.41.59.51 0 1.02-.2 1.41-.59l7.78-7.78 2.81-2.81c.8-.78.8-2.07 0-2.86zM5.41 20L4 18.59l7.72-7.72 1.47 1.35L5.41 20z\"/>\n",
              "  </svg>\n",
              "      </button>\n",
              "      \n",
              "  <style>\n",
              "    .colab-df-container {\n",
              "      display:flex;\n",
              "      flex-wrap:wrap;\n",
              "      gap: 12px;\n",
              "    }\n",
              "\n",
              "    .colab-df-convert {\n",
              "      background-color: #E8F0FE;\n",
              "      border: none;\n",
              "      border-radius: 50%;\n",
              "      cursor: pointer;\n",
              "      display: none;\n",
              "      fill: #1967D2;\n",
              "      height: 32px;\n",
              "      padding: 0 0 0 0;\n",
              "      width: 32px;\n",
              "    }\n",
              "\n",
              "    .colab-df-convert:hover {\n",
              "      background-color: #E2EBFA;\n",
              "      box-shadow: 0px 1px 2px rgba(60, 64, 67, 0.3), 0px 1px 3px 1px rgba(60, 64, 67, 0.15);\n",
              "      fill: #174EA6;\n",
              "    }\n",
              "\n",
              "    [theme=dark] .colab-df-convert {\n",
              "      background-color: #3B4455;\n",
              "      fill: #D2E3FC;\n",
              "    }\n",
              "\n",
              "    [theme=dark] .colab-df-convert:hover {\n",
              "      background-color: #434B5C;\n",
              "      box-shadow: 0px 1px 3px 1px rgba(0, 0, 0, 0.15);\n",
              "      filter: drop-shadow(0px 1px 2px rgba(0, 0, 0, 0.3));\n",
              "      fill: #FFFFFF;\n",
              "    }\n",
              "  </style>\n",
              "\n",
              "      <script>\n",
              "        const buttonEl =\n",
              "          document.querySelector('#df-28f23f0e-1b57-4192-9f3b-2f6162819afd button.colab-df-convert');\n",
              "        buttonEl.style.display =\n",
              "          google.colab.kernel.accessAllowed ? 'block' : 'none';\n",
              "\n",
              "        async function convertToInteractive(key) {\n",
              "          const element = document.querySelector('#df-28f23f0e-1b57-4192-9f3b-2f6162819afd');\n",
              "          const dataTable =\n",
              "            await google.colab.kernel.invokeFunction('convertToInteractive',\n",
              "                                                     [key], {});\n",
              "          if (!dataTable) return;\n",
              "\n",
              "          const docLinkHtml = 'Like what you see? Visit the ' +\n",
              "            '<a target=\"_blank\" href=https://colab.research.google.com/notebooks/data_table.ipynb>data table notebook</a>'\n",
              "            + ' to learn more about interactive tables.';\n",
              "          element.innerHTML = '';\n",
              "          dataTable['output_type'] = 'display_data';\n",
              "          await google.colab.output.renderOutput(dataTable, element);\n",
              "          const docLink = document.createElement('div');\n",
              "          docLink.innerHTML = docLinkHtml;\n",
              "          element.appendChild(docLink);\n",
              "        }\n",
              "      </script>\n",
              "    </div>\n",
              "  </div>\n",
              "  "
            ]
          },
          "metadata": {},
          "execution_count": 4
        }
      ]
    },
    {
      "cell_type": "code",
      "source": [
        "df = df[['URL', 'TEXT']]\n",
        "df.columns = ['image_id', 'caption']"
      ],
      "metadata": {
        "id": "O8JbVclh--eZ"
      },
      "execution_count": null,
      "outputs": []
    },
    {
      "cell_type": "code",
      "source": [
        "df = df.iloc[0:65000]\n",
        "df.reset_index(inplace=True)"
      ],
      "metadata": {
        "id": "AUKuluNxAOAB"
      },
      "execution_count": null,
      "outputs": []
    },
    {
      "cell_type": "code",
      "source": [
        "!rm -r images\n",
        "!mkdir images\n"
      ],
      "metadata": {
        "id": "uUM_gqksDjfX"
      },
      "execution_count": null,
      "outputs": []
    },
    {
      "cell_type": "code",
      "source": [
        "print(df.iloc[12])"
      ],
      "metadata": {
        "colab": {
          "base_uri": "https://localhost:8080/"
        },
        "id": "Xns72pAUIoEG",
        "outputId": "183ccf03-7038-4a1b-8370-98adaaf3d0cd"
      },
      "execution_count": null,
      "outputs": [
        {
          "output_type": "stream",
          "name": "stdout",
          "text": [
            "index                                                      12\n",
            "image_id    https://www.rockfordsystems.com/wp-content/upl...\n",
            "caption                             Danger High Voltage Label\n",
            "Name: 12, dtype: object\n"
          ]
        }
      ]
    },
    {
      "cell_type": "code",
      "source": [
        "import cv2\n",
        "import os\n",
        "from google.colab.patches import cv2_imshow\n",
        "import urllib.request\n",
        "import numpy as np\n",
        "import sys\n",
        "number_images = 12\n",
        "iterator_counter = 0\n",
        "saveimage_counter = 0\n",
        "for row in df.itertuples():\n",
        "    try:\n",
        "      url_response = urllib.request.urlopen(row.image_id, timeout=5)\n",
        "      img_array = np.array(bytearray(url_response.read()), dtype=np.uint8)\n",
        "      img = cv2.imdecode(img_array, -1)\n",
        "      img_stretch = cv2.resize(img, (64, 64))\n",
        "      cv2.imwrite('/content/images/'+str(saveimage_counter)+'.jpg', img_stretch)\n",
        "      iterator_counter += 1\n",
        "      saveimage_counter += 1\n",
        "      if (saveimage_counter == number_images):\n",
        "        break\n",
        "    except:\n",
        "        print(\"Oops!\", sys.exc_info()[0], \"occurred.\")\n",
        "        df.drop(iterator_counter, axis=0, inplace=True)\n",
        "        iterator_counter += 1\n",
        "df.reset_index(inplace=True)\n",
        "df = df.iloc[0:number_images]"
      ],
      "metadata": {
        "colab": {
          "base_uri": "https://localhost:8080/"
        },
        "id": "2c1eBSTaBN_w",
        "outputId": "67b7fda9-c61e-41ff-aa9a-9fa90a5e8c25"
      },
      "execution_count": null,
      "outputs": [
        {
          "output_type": "stream",
          "name": "stdout",
          "text": [
            "Oops! <class 'urllib.error.HTTPError'> occurred.\n",
            "Oops! <class 'urllib.error.HTTPError'> occurred.\n",
            "Oops! <class 'urllib.error.URLError'> occurred.\n",
            "Oops! <class 'urllib.error.URLError'> occurred.\n"
          ]
        }
      ]
    },
    {
      "cell_type": "code",
      "source": [
        "print(df.iloc[10])"
      ],
      "metadata": {
        "colab": {
          "base_uri": "https://localhost:8080/"
        },
        "id": "nara0PgOItB_",
        "outputId": "2be19602-e279-403c-b6ee-3fad5a84f614"
      },
      "execution_count": null,
      "outputs": [
        {
          "output_type": "stream",
          "name": "stdout",
          "text": [
            "level_0                                                    10\n",
            "index                                                      10\n",
            "image_id    http://images.fineartamerica.com/images-greeti...\n",
            "caption     The Bluesbreakers Greeting Cards - Clapton Liv...\n",
            "Name: 10, dtype: object\n"
          ]
        }
      ]
    },
    {
      "cell_type": "code",
      "source": [
        "df = df[['caption']]\n",
        "df['image_id'] = df.index"
      ],
      "metadata": {
        "colab": {
          "base_uri": "https://localhost:8080/"
        },
        "id": "2xftfu1eci93",
        "outputId": "60d83f0a-7e70-4b9c-871a-974c89ebce8f"
      },
      "execution_count": null,
      "outputs": [
        {
          "output_type": "stream",
          "name": "stderr",
          "text": [
            "/usr/local/lib/python3.7/dist-packages/ipykernel_launcher.py:2: SettingWithCopyWarning: \n",
            "A value is trying to be set on a copy of a slice from a DataFrame.\n",
            "Try using .loc[row_indexer,col_indexer] = value instead\n",
            "\n",
            "See the caveats in the documentation: https://pandas.pydata.org/pandas-docs/stable/user_guide/indexing.html#returning-a-view-versus-a-copy\n",
            "  \n"
          ]
        }
      ]
    },
    {
      "cell_type": "code",
      "source": [
        "df.to_csv('captions_laion_4.csv', index=False)"
      ],
      "metadata": {
        "id": "ArBFyd8ncque"
      },
      "execution_count": null,
      "outputs": []
    },
    {
      "cell_type": "code",
      "source": [
        "!zip -r images_laion_4.zip images "
      ],
      "metadata": {
        "colab": {
          "base_uri": "https://localhost:8080/"
        },
        "id": "v729HyAkcwct",
        "outputId": "80db865b-37f0-4e05-9f91-4edf2de9f0a0"
      },
      "execution_count": null,
      "outputs": [
        {
          "output_type": "stream",
          "name": "stdout",
          "text": [
            "updating: images/ (stored 0%)\n",
            "updating: images/2.jpg (deflated 5%)\n",
            "updating: images/3.jpg (deflated 6%)\n",
            "updating: images/1.jpg (deflated 5%)\n",
            "updating: images/0.jpg (deflated 5%)\n",
            "  adding: images/6.jpg (deflated 4%)\n",
            "  adding: images/8.jpg (deflated 6%)\n",
            "  adding: images/10.jpg (deflated 5%)\n",
            "  adding: images/7.jpg (deflated 5%)\n",
            "  adding: images/11.jpg (deflated 4%)\n",
            "  adding: images/5.jpg (deflated 5%)\n",
            "  adding: images/9.jpg (deflated 4%)\n",
            "  adding: images/4.jpg (deflated 4%)\n"
          ]
        }
      ]
    },
    {
      "cell_type": "code",
      "source": [
        "# Copy to Drive\n",
        "from google.colab import drive\n",
        "drive.mount('/content/drive')\n",
        "!cp /content/images_laion_4.zip /content/drive/MyDrive/Martin/fine_tuning\n",
        "!cp /content/captions_laion_4.csv /content/drive/MyDrive/Martin/fine_tuning"
      ],
      "metadata": {
        "colab": {
          "base_uri": "https://localhost:8080/"
        },
        "id": "Z-MuFRbZcz4V",
        "outputId": "317b8e35-0e15-446e-a800-249a3b1e7db9"
      },
      "execution_count": null,
      "outputs": [
        {
          "output_type": "stream",
          "name": "stdout",
          "text": [
            "Drive already mounted at /content/drive; to attempt to forcibly remount, call drive.mount(\"/content/drive\", force_remount=True).\n"
          ]
        }
      ]
    }
  ]
}